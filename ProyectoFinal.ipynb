{
  "nbformat": 4,
  "nbformat_minor": 0,
  "metadata": {
    "accelerator": "TPU",
    "colab": {
      "name": "ProyectoFinal.ipynb",
      "provenance": [],
      "collapsed_sections": []
    },
    "kernelspec": {
      "display_name": "Python 3",
      "name": "python3"
    },
    "language_info": {
      "name": "python"
    }
  },
  "cells": [
    {
      "cell_type": "markdown",
      "metadata": {
        "id": "FT6bHgggk7Xp"
      },
      "source": [
        "#Importaciones\n",
        "\n",
        "Acontinuación se especifican las diferentes importaciones necesarias para el proceso\n"
      ]
    },
    {
      "cell_type": "code",
      "metadata": {
        "colab": {
          "base_uri": "https://localhost:8080/"
        },
        "id": "oLj4EFrJlAiC",
        "outputId": "ca7d6257-e709-4580-d16e-17e2b08426f1"
      },
      "source": [
        "!pip install mglearn\n",
        "import numpy as np\n",
        "import matplotlib.pyplot as plt\n",
        "import pandas as pd\n",
        "import mglearn\n",
        "import time\n",
        "%matplotlib inline"
      ],
      "execution_count": null,
      "outputs": [
        {
          "output_type": "stream",
          "text": [
            "Collecting mglearn\n",
            "\u001b[?25l  Downloading https://files.pythonhosted.org/packages/65/38/8aced26fce0b2ae82c3c87cd3b6105f38ca6d9d51704ecc44aa54473e6b9/mglearn-0.1.9.tar.gz (540kB)\n",
            "\r\u001b[K     |▋                               | 10kB 13.9MB/s eta 0:00:01\r\u001b[K     |█▏                              | 20kB 19.7MB/s eta 0:00:01\r\u001b[K     |█▉                              | 30kB 10.9MB/s eta 0:00:01\r\u001b[K     |██▍                             | 40kB 8.4MB/s eta 0:00:01\r\u001b[K     |███                             | 51kB 5.3MB/s eta 0:00:01\r\u001b[K     |███▋                            | 61kB 6.0MB/s eta 0:00:01\r\u001b[K     |████▎                           | 71kB 5.8MB/s eta 0:00:01\r\u001b[K     |████▉                           | 81kB 6.3MB/s eta 0:00:01\r\u001b[K     |█████▌                          | 92kB 6.1MB/s eta 0:00:01\r\u001b[K     |██████                          | 102kB 6.6MB/s eta 0:00:01\r\u001b[K     |██████▊                         | 112kB 6.6MB/s eta 0:00:01\r\u001b[K     |███████▎                        | 122kB 6.6MB/s eta 0:00:01\r\u001b[K     |███████▉                        | 133kB 6.6MB/s eta 0:00:01\r\u001b[K     |████████▌                       | 143kB 6.6MB/s eta 0:00:01\r\u001b[K     |█████████                       | 153kB 6.6MB/s eta 0:00:01\r\u001b[K     |█████████▊                      | 163kB 6.6MB/s eta 0:00:01\r\u001b[K     |██████████▎                     | 174kB 6.6MB/s eta 0:00:01\r\u001b[K     |███████████                     | 184kB 6.6MB/s eta 0:00:01\r\u001b[K     |███████████▌                    | 194kB 6.6MB/s eta 0:00:01\r\u001b[K     |████████████▏                   | 204kB 6.6MB/s eta 0:00:01\r\u001b[K     |████████████▊                   | 215kB 6.6MB/s eta 0:00:01\r\u001b[K     |█████████████▍                  | 225kB 6.6MB/s eta 0:00:01\r\u001b[K     |██████████████                  | 235kB 6.6MB/s eta 0:00:01\r\u001b[K     |██████████████▋                 | 245kB 6.6MB/s eta 0:00:01\r\u001b[K     |███████████████▏                | 256kB 6.6MB/s eta 0:00:01\r\u001b[K     |███████████████▊                | 266kB 6.6MB/s eta 0:00:01\r\u001b[K     |████████████████▍               | 276kB 6.6MB/s eta 0:00:01\r\u001b[K     |█████████████████               | 286kB 6.6MB/s eta 0:00:01\r\u001b[K     |█████████████████▋              | 296kB 6.6MB/s eta 0:00:01\r\u001b[K     |██████████████████▏             | 307kB 6.6MB/s eta 0:00:01\r\u001b[K     |██████████████████▉             | 317kB 6.6MB/s eta 0:00:01\r\u001b[K     |███████████████████▍            | 327kB 6.6MB/s eta 0:00:01\r\u001b[K     |████████████████████            | 337kB 6.6MB/s eta 0:00:01\r\u001b[K     |████████████████████▋           | 348kB 6.6MB/s eta 0:00:01\r\u001b[K     |█████████████████████▎          | 358kB 6.6MB/s eta 0:00:01\r\u001b[K     |█████████████████████▉          | 368kB 6.6MB/s eta 0:00:01\r\u001b[K     |██████████████████████▌         | 378kB 6.6MB/s eta 0:00:01\r\u001b[K     |███████████████████████         | 389kB 6.6MB/s eta 0:00:01\r\u001b[K     |███████████████████████▋        | 399kB 6.6MB/s eta 0:00:01\r\u001b[K     |████████████████████████▎       | 409kB 6.6MB/s eta 0:00:01\r\u001b[K     |████████████████████████▉       | 419kB 6.6MB/s eta 0:00:01\r\u001b[K     |█████████████████████████▌      | 430kB 6.6MB/s eta 0:00:01\r\u001b[K     |██████████████████████████      | 440kB 6.6MB/s eta 0:00:01\r\u001b[K     |██████████████████████████▊     | 450kB 6.6MB/s eta 0:00:01\r\u001b[K     |███████████████████████████▎    | 460kB 6.6MB/s eta 0:00:01\r\u001b[K     |████████████████████████████    | 471kB 6.6MB/s eta 0:00:01\r\u001b[K     |████████████████████████████▌   | 481kB 6.6MB/s eta 0:00:01\r\u001b[K     |█████████████████████████████▏  | 491kB 6.6MB/s eta 0:00:01\r\u001b[K     |█████████████████████████████▊  | 501kB 6.6MB/s eta 0:00:01\r\u001b[K     |██████████████████████████████▍ | 512kB 6.6MB/s eta 0:00:01\r\u001b[K     |███████████████████████████████ | 522kB 6.6MB/s eta 0:00:01\r\u001b[K     |███████████████████████████████▌| 532kB 6.6MB/s eta 0:00:01\r\u001b[K     |████████████████████████████████| 542kB 6.6MB/s \n",
            "\u001b[?25hRequirement already satisfied: numpy in /usr/local/lib/python3.7/dist-packages (from mglearn) (1.19.5)\n",
            "Requirement already satisfied: matplotlib in /usr/local/lib/python3.7/dist-packages (from mglearn) (3.2.2)\n",
            "Requirement already satisfied: scikit-learn in /usr/local/lib/python3.7/dist-packages (from mglearn) (0.22.2.post1)\n",
            "Requirement already satisfied: pandas in /usr/local/lib/python3.7/dist-packages (from mglearn) (1.1.5)\n",
            "Requirement already satisfied: pillow in /usr/local/lib/python3.7/dist-packages (from mglearn) (7.1.2)\n",
            "Requirement already satisfied: cycler in /usr/local/lib/python3.7/dist-packages (from mglearn) (0.10.0)\n",
            "Requirement already satisfied: imageio in /usr/local/lib/python3.7/dist-packages (from mglearn) (2.4.1)\n",
            "Requirement already satisfied: joblib in /usr/local/lib/python3.7/dist-packages (from mglearn) (1.0.1)\n",
            "Requirement already satisfied: kiwisolver>=1.0.1 in /usr/local/lib/python3.7/dist-packages (from matplotlib->mglearn) (1.3.1)\n",
            "Requirement already satisfied: python-dateutil>=2.1 in /usr/local/lib/python3.7/dist-packages (from matplotlib->mglearn) (2.8.1)\n",
            "Requirement already satisfied: pyparsing!=2.0.4,!=2.1.2,!=2.1.6,>=2.0.1 in /usr/local/lib/python3.7/dist-packages (from matplotlib->mglearn) (2.4.7)\n",
            "Requirement already satisfied: scipy>=0.17.0 in /usr/local/lib/python3.7/dist-packages (from scikit-learn->mglearn) (1.4.1)\n",
            "Requirement already satisfied: pytz>=2017.2 in /usr/local/lib/python3.7/dist-packages (from pandas->mglearn) (2018.9)\n",
            "Requirement already satisfied: six in /usr/local/lib/python3.7/dist-packages (from cycler->mglearn) (1.15.0)\n",
            "Building wheels for collected packages: mglearn\n",
            "  Building wheel for mglearn (setup.py) ... \u001b[?25l\u001b[?25hdone\n",
            "  Created wheel for mglearn: filename=mglearn-0.1.9-py2.py3-none-any.whl size=582638 sha256=e98155ee4271519c6c445bbac769b55262aa15c303fe66cb663a956907b5eeff\n",
            "  Stored in directory: /root/.cache/pip/wheels/eb/a6/ea/a6a3716233fa62fc561259b5cb1e28f79e9ff3592c0adac5f0\n",
            "Successfully built mglearn\n",
            "Installing collected packages: mglearn\n",
            "Successfully installed mglearn-0.1.9\n"
          ],
          "name": "stdout"
        }
      ]
    },
    {
      "cell_type": "markdown",
      "metadata": {
        "id": "8QHhN1cBkxWu"
      },
      "source": [
        "#Carga de datos\n",
        "\n",
        "El dataset lo obtenemos de un archivo público de nosotros ubicado **en** drive"
      ]
    },
    {
      "cell_type": "code",
      "metadata": {
        "colab": {
          "base_uri": "https://localhost:8080/",
          "height": 216
        },
        "id": "pmpS5NihkiZg",
        "outputId": "af9d67f2-01d1-490b-b39d-335a6203a1b9"
      },
      "source": [
        "import pandas as pd\n",
        "# The file has no headers naming the columns, so we pass header=None\n",
        "# and provide the column names explicitly in \"names\"\n",
        " \n",
        "url='https://docs.google.com/uc?export=download&id=1fKWYV2A2uD4jtMvbedwJufAlKjtnl5Q9'\n",
        "\n",
        "\n",
        "data = pd.read_csv(url,sep=\",\", header=0, index_col=False,names=['pais', 'codigo_pais', 'oficina_registro', 'grupo_edad',  'edad',\n",
        "           'area_ocupacion', 'sub_area_ocupacion', 'nivel_academico', 'estado_civil', 'genero',\n",
        "           'etnia', 'estatura', 'localizacion', 'cantidad_personas'])\n",
        "\n",
        "# Seleccionamos las columnas a utilizar\n",
        "data = data[['pais', 'grupo_edad', 'edad','area_ocupacion', 'sub_area_ocupacion', 'nivel_academico', 'estado_civil', 'genero',\n",
        "           'etnia', 'estatura','cantidad_personas']]\n",
        "\n",
        "# Hacemos una pequeña visualización de los datos\n",
        "display(data.head())\n",
        "data.shape"
      ],
      "execution_count": null,
      "outputs": [
        {
          "output_type": "display_data",
          "data": {
            "text/html": [
              "<div>\n",
              "<style scoped>\n",
              "    .dataframe tbody tr th:only-of-type {\n",
              "        vertical-align: middle;\n",
              "    }\n",
              "\n",
              "    .dataframe tbody tr th {\n",
              "        vertical-align: top;\n",
              "    }\n",
              "\n",
              "    .dataframe thead th {\n",
              "        text-align: right;\n",
              "    }\n",
              "</style>\n",
              "<table border=\"1\" class=\"dataframe\">\n",
              "  <thead>\n",
              "    <tr style=\"text-align: right;\">\n",
              "      <th></th>\n",
              "      <th>pais</th>\n",
              "      <th>grupo_edad</th>\n",
              "      <th>edad</th>\n",
              "      <th>area_ocupacion</th>\n",
              "      <th>sub_area_ocupacion</th>\n",
              "      <th>nivel_academico</th>\n",
              "      <th>estado_civil</th>\n",
              "      <th>genero</th>\n",
              "      <th>etnia</th>\n",
              "      <th>estatura</th>\n",
              "      <th>cantidad_personas</th>\n",
              "    </tr>\n",
              "  </thead>\n",
              "  <tbody>\n",
              "    <tr>\n",
              "      <th>0</th>\n",
              "      <td>FRANCIA</td>\n",
              "      <td>ADULTO JOVEN</td>\n",
              "      <td>25</td>\n",
              "      <td>INGENIERÍA, ARQUITECTURA Y AFINES</td>\n",
              "      <td>OTRAS INGENIERÍAS</td>\n",
              "      <td>NO INDICA</td>\n",
              "      <td>SOLTERO</td>\n",
              "      <td>MASCULINO</td>\n",
              "      <td>OTRO</td>\n",
              "      <td>-1</td>\n",
              "      <td>1</td>\n",
              "    </tr>\n",
              "    <tr>\n",
              "      <th>1</th>\n",
              "      <td>BRASIL</td>\n",
              "      <td>ADULTO JOVEN</td>\n",
              "      <td>25</td>\n",
              "      <td>NINGUNA</td>\n",
              "      <td>NINGUNA</td>\n",
              "      <td>NO INDICA</td>\n",
              "      <td>SOLTERO</td>\n",
              "      <td>MASCULINO</td>\n",
              "      <td>OTRO</td>\n",
              "      <td>-1</td>\n",
              "      <td>8</td>\n",
              "    </tr>\n",
              "    <tr>\n",
              "      <th>2</th>\n",
              "      <td>ESPAÑA</td>\n",
              "      <td>ADULTO JOVEN</td>\n",
              "      <td>25</td>\n",
              "      <td>NINGUNA</td>\n",
              "      <td>NINGUNA</td>\n",
              "      <td>BACHILLERATO</td>\n",
              "      <td>UNION_LIBRE</td>\n",
              "      <td>MASCULINO</td>\n",
              "      <td>OTRO</td>\n",
              "      <td>177</td>\n",
              "      <td>1</td>\n",
              "    </tr>\n",
              "    <tr>\n",
              "      <th>3</th>\n",
              "      <td>CANADA</td>\n",
              "      <td>ADULTO JOVEN</td>\n",
              "      <td>25</td>\n",
              "      <td>CIENCIAS SOCIALES Y HUMANAS</td>\n",
              "      <td>PSICOLOGÍA Y AFINES</td>\n",
              "      <td>NO INDICA</td>\n",
              "      <td>DESCONOCIDO</td>\n",
              "      <td>FEMENINO</td>\n",
              "      <td>OTRO</td>\n",
              "      <td>-1</td>\n",
              "      <td>1</td>\n",
              "    </tr>\n",
              "    <tr>\n",
              "      <th>4</th>\n",
              "      <td>ECUADOR</td>\n",
              "      <td>ADULTO JOVEN</td>\n",
              "      <td>25</td>\n",
              "      <td>NINGUNA</td>\n",
              "      <td>NINGUNA</td>\n",
              "      <td>NO INDICA</td>\n",
              "      <td>UNION_LIBRE</td>\n",
              "      <td>MASCULINO</td>\n",
              "      <td>OTRO</td>\n",
              "      <td>-1</td>\n",
              "      <td>4</td>\n",
              "    </tr>\n",
              "  </tbody>\n",
              "</table>\n",
              "</div>"
            ],
            "text/plain": [
              "      pais    grupo_edad  edad  ... etnia estatura cantidad_personas\n",
              "0  FRANCIA  ADULTO JOVEN    25  ...  OTRO       -1                 1\n",
              "1   BRASIL  ADULTO JOVEN    25  ...  OTRO       -1                 8\n",
              "2   ESPAÑA  ADULTO JOVEN    25  ...  OTRO      177                 1\n",
              "3   CANADA  ADULTO JOVEN    25  ...  OTRO       -1                 1\n",
              "4  ECUADOR  ADULTO JOVEN    25  ...  OTRO       -1                 4\n",
              "\n",
              "[5 rows x 11 columns]"
            ]
          },
          "metadata": {
            "tags": []
          }
        },
        {
          "output_type": "execute_result",
          "data": {
            "text/plain": [
              "(167842, 11)"
            ]
          },
          "metadata": {
            "tags": []
          },
          "execution_count": 2
        }
      ]
    },
    {
      "cell_type": "markdown",
      "metadata": {
        "id": "1mNtVtiVTIFB"
      },
      "source": [
        "#Eliminación de datos nulos (nan)\n",
        "\n",
        "En la revisión del dataset, se encontró que existían valores en donde no se encontraba información registrada y por lo tanto venía categorizada con etiquetas específicas, es por esta razón que se decidió reemplazar estas categorías por NaN y posteriormente se hizo su respectiva eliminación.\n",
        "Los valores según no se nos indico en el dataset que no tenía información fueron:\n",
        "\n",
        "\n",
        "*   Area_ocupacion, nivel_academico como 'NO INDICA'\n",
        "*   Estado civil y genero como 'DESCONOCIDO'\n",
        "*   Etnia como 'SIN ETNIA REGISTRADA'\n",
        "*   Estatura como '-1'"
      ]
    },
    {
      "cell_type": "code",
      "metadata": {
        "colab": {
          "base_uri": "https://localhost:8080/"
        },
        "id": "blaVaMaySn69",
        "outputId": "1c5ee0e3-576a-4390-f620-95bcbb049d93"
      },
      "source": [
        "data = pd.DataFrame(data)\n",
        "from numpy import nan\n",
        "\n",
        "#Marcamos los datos indicados como nan en la data principal\n",
        "data[['area_ocupacion']] = data[['area_ocupacion']].replace('NO INDICA', nan)\n",
        "data[['nivel_academico']] = data[['nivel_academico']].replace('NO INDICA', nan)\n",
        "data[['estado_civil']] = data[['estado_civil']].replace('DESCONOCIDO', nan)\n",
        "data[['genero']] = data[['genero']].replace('DESCONOCIDO', nan)\n",
        "data[['etnia']] = data[['etnia']].replace('SIN ETNIA REGISTRADA', nan)\n",
        "data[['estatura']] = data[['estatura']].replace(-1, nan)\n",
        "data[['etnia']] = data[['etnia']].replace('PALENQUERO DE SAN BASILO', 'PALENQUERO DE SAN BASILIO')\n",
        "# se borran los datos marcados como NAN\n",
        "data_remnan=data.copy()\n",
        "data_remnan.dropna(inplace=True)\n",
        "\n",
        "# summarize y shape de los datos removidos\n",
        "print(data.shape)\n",
        "print(data_remnan.shape)"
      ],
      "execution_count": null,
      "outputs": [
        {
          "output_type": "stream",
          "text": [
            "(167842, 11)\n",
            "(19497, 11)\n"
          ],
          "name": "stdout"
        }
      ]
    },
    {
      "cell_type": "markdown",
      "metadata": {
        "id": "ndozFnIyFTx4"
      },
      "source": [
        "#Modificación de datos anómalos.\n",
        "\n",
        "Se identificó a través de la grafica de bigotes que existen outliers para este dato\n",
        "\n",
        "\n"
      ]
    },
    {
      "cell_type": "code",
      "metadata": {
        "colab": {
          "base_uri": "https://localhost:8080/",
          "height": 611
        },
        "id": "63F3ZjndX4Op",
        "outputId": "cb06e611-1766-4418-d4ab-7affe66af5f9"
      },
      "source": [
        "import seaborn as sns\n",
        "fig=plt.figure(figsize=(30,10))\n",
        "sns.set_theme(style=\"whitegrid\")\n",
        "tips = data_remnan\n",
        "ax = sns.boxplot(x=tips[\"estatura\"])"
      ],
      "execution_count": null,
      "outputs": [
        {
          "output_type": "display_data",
          "data": {
            "image/png": "[encoded data removed]",
            "text/plain": [
              "<Figure size 2160x720 with 1 Axes>"
            ]
          },
          "metadata": {
            "tags": []
          }
        }
      ]
    },
    {
      "cell_type": "markdown",
      "metadata": {
        "id": "6XlIkTNxmgoe"
      },
      "source": [
        "Se calculan los cuartiles, el rango intercuartil y los respectivos bigote superior e inferior.\n"
      ]
    },
    {
      "cell_type": "code",
      "metadata": {
        "colab": {
          "base_uri": "https://localhost:8080/"
        },
        "id": "4YummN95Yy4u",
        "outputId": "d29bef0b-23f5-4b7b-beeb-4b411be8e5cc"
      },
      "source": [
        "Q1= data_remnan['estatura'].quantile(0.25)\n",
        "print(\"primer cuartil\",Q1)\n",
        "\n",
        "Q3= data_remnan['estatura'].quantile(0.75)\n",
        "print(\" tercer cuartil\",Q3)\n",
        "\n",
        "IQR = Q3 - Q1\n",
        "print(\"rango intercuartil\",IQR)\n",
        "\n",
        "mediana = data_remnan['estatura'].median()\n",
        "print(\"mediana\",mediana)\n",
        "\n",
        "v_min = data_remnan['estatura'].min()\n",
        "print(\"minimo\",v_min)\n",
        "\n",
        "v_max= data_remnan['estatura'].max()\n",
        "print(\"maximo\",v_max)\n",
        "\n",
        "BI_calculado = (Q1 - 1.5 * IQR )\n",
        "print(\"BI_calculado \",BI_calculado)\n",
        "\n",
        "BS_calculado = (Q3 + 1.5 * IQR )\n",
        "print(\"BS_calculado\",BS_calculado)"
      ],
      "execution_count": null,
      "outputs": [
        {
          "output_type": "stream",
          "text": [
            "primer cuartil 160.0\n",
            " tercer cuartil 173.0\n",
            "rango intercuartil 13.0\n",
            "mediana 166.0\n",
            "minimo 0.0\n",
            "maximo 550.0\n",
            "BI_calculado  140.5\n",
            "BS_calculado 192.5\n"
          ],
          "name": "stdout"
        }
      ]
    },
    {
      "cell_type": "markdown",
      "metadata": {
        "id": "6KEqwKSlob13"
      },
      "source": [
        "Se crea un dataframe (BS) con la información de los registros cuya estatura fueran mayores al bigote superior y otro dataframe (BI) con la información de los registros menores al bigote inferior.\n"
      ]
    },
    {
      "cell_type": "code",
      "metadata": {
        "id": "fn1fXKUfoe7Q"
      },
      "source": [
        "BI = data_remnan[data_remnan['estatura'] < BI_calculado]\n",
        "BS = data_remnan[data_remnan['estatura'] > BS_calculado]"
      ],
      "execution_count": null,
      "outputs": []
    },
    {
      "cell_type": "markdown",
      "metadata": {
        "id": "sfHe_UQ5mx74"
      },
      "source": [
        "Se recorre el dataframe (BI) y se modificaron los valores del dataframe principal que cumplieran con que su estatura fuese igual al valor de la estatura de BI como nan.\n",
        "\n",
        "Se reemplazan los nan de valores inferiores al bigote inferior por la mediana"
      ]
    },
    {
      "cell_type": "code",
      "metadata": {
        "colab": {
          "base_uri": "https://localhost:8080/"
        },
        "id": "USBAD_oAY4Pt",
        "outputId": "6330a640-3b20-4791-9d41-19f227687202"
      },
      "source": [
        "print(data_remnan.shape)\n",
        "for indice,fila in BI.iterrows():\n",
        "  data_remnan['estatura'] = data_remnan['estatura'].replace(fila['estatura'] , nan)\n",
        "print(data_remnan.shape)\n",
        "\n",
        "print('Median Values')\n",
        "data_remnan.fillna(data_remnan['estatura'].median(), inplace=True)\n",
        "print(data_remnan.shape)"
      ],
      "execution_count": null,
      "outputs": [
        {
          "output_type": "stream",
          "text": [
            "(19497, 11)\n",
            "(19497, 11)\n",
            "Median Values\n",
            "(19497, 11)\n"
          ],
          "name": "stdout"
        }
      ]
    },
    {
      "cell_type": "markdown",
      "metadata": {
        "id": "ErSZAzekp5EE"
      },
      "source": [
        "Se recorre el dataframe (BS) y se modificaron los valores del dataframe principal que cumplieran con que su estatura fuese igual al valor de la estatura de BS como nan.\n",
        "\n",
        "Se reemplazan los nan de valores inferiores al bigote inferior por la moda"
      ]
    },
    {
      "cell_type": "code",
      "metadata": {
        "colab": {
          "base_uri": "https://localhost:8080/"
        },
        "id": "94-FTSL8Y-wb",
        "outputId": "b2df32ee-b191-4fa0-c29b-2cd650028df4"
      },
      "source": [
        "print(data_remnan.shape)\n",
        "for indice,fila in BS.iterrows():\n",
        "  data_remnan['estatura'] = data_remnan['estatura'].replace(fila['estatura'] , nan)\n",
        "print(data_remnan.shape)\n",
        "\n",
        "print('Mode Values')\n",
        "data_remnan.fillna(data_remnan['estatura'].mode(dropna=True).iloc[0], inplace=True)\n",
        "print(data_remnan.shape)"
      ],
      "execution_count": null,
      "outputs": [
        {
          "output_type": "stream",
          "text": [
            "(19497, 11)\n",
            "(19497, 11)\n",
            "Mode Values\n",
            "(19497, 11)\n"
          ],
          "name": "stdout"
        }
      ]
    },
    {
      "cell_type": "code",
      "metadata": {
        "colab": {
          "base_uri": "https://localhost:8080/",
          "height": 611
        },
        "id": "d-gkLsz2ZJIp",
        "outputId": "ea2e935e-fd5e-4eb3-f305-c36b6df9c329"
      },
      "source": [
        "import seaborn as sns\n",
        "fig=plt.figure(figsize=(30,10))\n",
        "sns.set_theme(style=\"whitegrid\")\n",
        "tips = data_remnan\n",
        "ax = sns.boxplot(x=tips[\"estatura\"])"
      ],
      "execution_count": null,
      "outputs": [
        {
          "output_type": "display_data",
          "data": {
            "image/png": "[encoded data removed]",
            "text/plain": [
              "<Figure size 2160x720 with 1 Axes>"
            ]
          },
          "metadata": {
            "tags": []
          }
        }
      ]
    },
    {
      "cell_type": "markdown",
      "metadata": {
        "id": "nL4Jc0NyjUD8"
      },
      "source": [
        "Grafica antes del tratamiento a la estatura\n"
      ]
    },
    {
      "cell_type": "code",
      "metadata": {
        "colab": {
          "base_uri": "https://localhost:8080/",
          "height": 920
        },
        "id": "Nv5_eH7-9x1X",
        "outputId": "4ec0ca87-ab2f-4c4d-8d3f-d2de2906393d"
      },
      "source": [
        "fig=plt.figure(figsize=(30,15))\n",
        "sns.set_theme(style=\"white\")\n",
        "data.groupby('estatura')['cantidad_personas'].sum().plot(kind='bar',width = 0.9)"
      ],
      "execution_count": null,
      "outputs": [
        {
          "output_type": "execute_result",
          "data": {
            "text/plain": [
              "<matplotlib.axes._subplots.AxesSubplot at 0x7f5923d49c90>"
            ]
          },
          "metadata": {
            "tags": []
          },
          "execution_count": 11
        },
        {
          "output_type": "display_data",
          "data": {
            "image/png": "[encoded data removed]",
            "text/plain": [
              "<Figure size 2160x1080 with 1 Axes>"
            ]
          },
          "metadata": {
            "tags": []
          }
        }
      ]
    },
    {
      "cell_type": "markdown",
      "metadata": {
        "id": "mHSqEdu9-I5v"
      },
      "source": [
        "Grafica despues del tratamiento a la estatura"
      ]
    },
    {
      "cell_type": "code",
      "metadata": {
        "colab": {
          "base_uri": "https://localhost:8080/",
          "height": 920
        },
        "id": "cMImoJAcZLWR",
        "outputId": "f26f1e03-1d1b-4986-f711-86d62eea7984"
      },
      "source": [
        "fig=plt.figure(figsize=(20,15))\n",
        "sns.set_theme(style=\"white\")\n",
        "data_remnan.groupby('estatura')['cantidad_personas'].sum().plot(kind='bar',width = 0.9)"
      ],
      "execution_count": null,
      "outputs": [
        {
          "output_type": "execute_result",
          "data": {
            "text/plain": [
              "<matplotlib.axes._subplots.AxesSubplot at 0x7f59235210d0>"
            ]
          },
          "metadata": {
            "tags": []
          },
          "execution_count": 12
        },
        {
          "output_type": "display_data",
          "data": {
            "image/png": "[encoded data removed]",
            "text/plain": [
              "<Figure size 1440x1080 with 1 Axes>"
            ]
          },
          "metadata": {
            "tags": []
          }
        }
      ]
    },
    {
      "cell_type": "markdown",
      "metadata": {
        "id": "37GGW6cxln-O"
      },
      "source": [
        "#EXPLOSIÓN DE DATOS"
      ]
    },
    {
      "cell_type": "markdown",
      "metadata": {
        "id": "RnshQp0bqwZL"
      },
      "source": [
        "Se crean dos dataframe con la información de los datos cuyo campo cantidad_personas es diferente de 1 (data_diferente_1) y otro con los registros de cantidad_personas igual a 1 (data_igual_1)"
      ]
    },
    {
      "cell_type": "code",
      "metadata": {
        "colab": {
          "base_uri": "https://localhost:8080/"
        },
        "id": "lBQfZufzZX1K",
        "outputId": "c0413ad7-4555-46be-d137-a0ab0587d389"
      },
      "source": [
        "#Filtramos dataframe para no recorrer los registros iguales a 1\n",
        "data_diferente_1 = data_remnan[data_remnan['cantidad_personas'] != 1]\n",
        "data_igual_1 = data_remnan[data_remnan['cantidad_personas'] == 1]\n",
        "\n",
        "print (\"Data original sin nan: \",data_remnan.shape)\n",
        "print (\"Data con cantidad de personas diferente a 1: \", data_diferente_1.shape)\n",
        "print (\"Data con cantidad de personas igual a 1: \",data_igual_1.shape)\n",
        "print (\"La cantidad de registros que se deberan insertar son: \", data_diferente_1['cantidad_personas'].sum())\n",
        "print (\"La nueva data tendrá la siguiente cantidad de registros: \",data_igual_1['cantidad_personas'].sum() + data_diferente_1['cantidad_personas'].sum() )"
      ],
      "execution_count": null,
      "outputs": [
        {
          "output_type": "stream",
          "text": [
            "Data original sin nan:  (19497, 11)\n",
            "Data con cantidad de personas diferente a 1:  (570, 11)\n",
            "Data con cantidad de personas igual a 1:  (18927, 11)\n",
            "La cantidad de registros que se deberan insertar son:  1290\n",
            "La nueva data tendrá la siguiente cantidad de registros:  20217\n"
          ],
          "name": "stdout"
        }
      ]
    },
    {
      "cell_type": "markdown",
      "metadata": {
        "id": "xAIQ5e8arTWq"
      },
      "source": [
        "Recorremos el dataframe data_diferente_1 para multiplicar la información, es decir, insertar la cantidad de registros iguales a su información segun indique su campo cantidad_personas, creando un nuevo dataframe llamado data_tem el cúal contendrá estos nuevos registros"
      ]
    },
    {
      "cell_type": "code",
      "metadata": {
        "id": "V3WBaxceZbLB"
      },
      "source": [
        "#inicializamos dataframe temporal\n",
        "data_tem = pd.DataFrame()\n",
        "\n",
        "#recorremos el dataframe con los registros de cantidad de personas =! a 1\n",
        "for indice,fila in data_diferente_1.iterrows():\n",
        "  #asignamos la cantidad de personas como variable para el recorrido de inserción \n",
        "  cant_registros=fila['cantidad_personas']\n",
        "  count = 0\n",
        "  while count < cant_registros:\n",
        "    #creamos un dataframe auxiliar solo con las columnas\n",
        "    df_aux = pd.DataFrame(columns=['pais', 'grupo_edad', 'edad','area_ocupacion', 'sub_area_ocupacion', 'nivel_academico', 'estado_civil', 'genero',\n",
        "                               'etnia', 'estatura','cantidad_personas'])\n",
        "    #agregamos el nuevo registro con cantidad en 1\n",
        "    df_aux = df_aux.append({'pais': fila['pais'] ,'grupo_edad':fila['grupo_edad'],  'edad':fila['edad'],\n",
        "                         'area_ocupacion':fila['area_ocupacion'], 'sub_area_ocupacion':fila['sub_area_ocupacion'],\n",
        "                         'nivel_academico':fila['nivel_academico'], 'estado_civil':fila['estado_civil'], 'genero':fila['genero'],\n",
        "                         'etnia':fila['etnia'], 'estatura':fila['estatura'],  'cantidad_personas':1},ignore_index=True)\n",
        "    \n",
        "    #concatenamos el dataframe auxiliar al dataframe temporal, el cual tendra los registros ya explosionados\n",
        "    data_tem = pd.concat([data_tem, df_aux])\n",
        "    #sumamos 1 al contador para agragar la cantidad de registros adecuada\n",
        "    count = count +1"
      ],
      "execution_count": null,
      "outputs": []
    },
    {
      "cell_type": "markdown",
      "metadata": {
        "id": "0N5nZoyMtiNy"
      },
      "source": [
        "Se tomá el dataframe data_tem el cual contiene los registros explosionados y lo unimos al dataframe data_igual_1, el cual contiene el resto de registros de nuestro dataset y finalmente regeneramos indices"
      ]
    },
    {
      "cell_type": "code",
      "metadata": {
        "colab": {
          "base_uri": "https://localhost:8080/"
        },
        "id": "hgi1jQKGZjNE",
        "outputId": "f063a4ef-3d60-407e-9c33-680b8435799d"
      },
      "source": [
        "#visualizamos la data temporal explosionada\n",
        "print(data_tem)\n",
        "#unimos los dos dataframes\n",
        "print(data_igual_1.shape)\n",
        "print(data_tem.shape)\n",
        "data_expl= pd.concat([data_igual_1,data_tem])\n",
        "#regeneramos indices\n",
        "data_expl.reset_index(drop=True, inplace=True)\n",
        "print(data_expl)"
      ],
      "execution_count": null,
      "outputs": [
        {
          "output_type": "stream",
          "text": [
            "              pais    grupo_edad edad  ...    etnia estatura cantidad_personas\n",
            "0           ESPAÑA  ADULTO JOVEN   25  ...  NINGUNA    157.0                 1\n",
            "0           ESPAÑA  ADULTO JOVEN   25  ...  NINGUNA    157.0                 1\n",
            "0           ESPAÑA  ADULTO JOVEN   25  ...     OTRO    158.0                 1\n",
            "0           ESPAÑA  ADULTO JOVEN   25  ...     OTRO    158.0                 1\n",
            "0           ESPAÑA  ADULTO JOVEN   25  ...  NINGUNA    178.0                 1\n",
            "..             ...           ...  ...  ...      ...      ...               ...\n",
            "0           ESPAÑA        ADULTO   40  ...     OTRO    173.0                 1\n",
            "0           ESPAÑA        ADULTO   40  ...  NINGUNA    160.0                 1\n",
            "0           ESPAÑA        ADULTO   40  ...  NINGUNA    160.0                 1\n",
            "0   ESTADOS UNIDOS        ADULTO   40  ...  NINGUNA    180.0                 1\n",
            "0   ESTADOS UNIDOS        ADULTO   40  ...  NINGUNA    180.0                 1\n",
            "\n",
            "[1290 rows x 11 columns]\n",
            "(18927, 11)\n",
            "(1290, 11)\n",
            "                 pais    grupo_edad edad  ...    etnia estatura cantidad_personas\n",
            "0              ESPAÑA  ADULTO JOVEN   25  ...     OTRO    177.0                 1\n",
            "1             ECUADOR  ADULTO JOVEN   25  ...     OTRO    170.0                 1\n",
            "2              ESPAÑA  ADULTO JOVEN   25  ...  NINGUNA    180.0                 1\n",
            "3              ESPAÑA  ADULTO JOVEN   25  ...  NINGUNA    154.0                 1\n",
            "4      ESTADOS UNIDOS  ADULTO JOVEN   25  ...  NINGUNA    168.0                 1\n",
            "...               ...           ...  ...  ...      ...      ...               ...\n",
            "20212          ESPAÑA        ADULTO   40  ...     OTRO    173.0                 1\n",
            "20213          ESPAÑA        ADULTO   40  ...  NINGUNA    160.0                 1\n",
            "20214          ESPAÑA        ADULTO   40  ...  NINGUNA    160.0                 1\n",
            "20215  ESTADOS UNIDOS        ADULTO   40  ...  NINGUNA    180.0                 1\n",
            "20216  ESTADOS UNIDOS        ADULTO   40  ...  NINGUNA    180.0                 1\n",
            "\n",
            "[20217 rows x 11 columns]\n"
          ],
          "name": "stdout"
        }
      ]
    },
    {
      "cell_type": "markdown",
      "metadata": {
        "id": "isZa3RnPviHB"
      },
      "source": [
        "Para aplicar el metodo de balanceo, fue necesario eliminar los registros que fueran inferiores a 6, ya que se generaba un error al ejecutar"
      ]
    },
    {
      "cell_type": "code",
      "metadata": {
        "colab": {
          "base_uri": "https://localhost:8080/"
        },
        "id": "EuwH4O1bZy92",
        "outputId": "ee383b77-f698-484b-c11b-b36bdcd94d5f"
      },
      "source": [
        "registros_menores_6= data_expl.groupby(['pais']).size().reset_index(name='cantidad_reg')\n",
        "registros_menores_6 = registros_menores_6[registros_menores_6['cantidad_reg'] <= 6]\n",
        "registros_menores_6.reset_index(drop=True, inplace=True)\n",
        "print(registros_menores_6)"
      ],
      "execution_count": null,
      "outputs": [
        {
          "output_type": "stream",
          "text": [
            "                                    pais  cantidad_reg\n",
            "0                         ARABIA SAUDITA             6\n",
            "1                                ARGELIA             1\n",
            "2                             AZERBAIYAN             2\n",
            "3                   BOSNIA Y HERZEGOVINA             1\n",
            "4                               BULGARIA             1\n",
            "5                                 EGIPTO             5\n",
            "6                             ESLOVAQUIA             1\n",
            "7                              ESLOVENIA             2\n",
            "8                                ESTONIA             1\n",
            "9                              FILIPINAS             4\n",
            "10                                 GABON             1\n",
            "11                                 GHANA             3\n",
            "12                                GRECIA             1\n",
            "13                                GUINEA             1\n",
            "14                                 HAITI             3\n",
            "15                               HUNGRIA             6\n",
            "16                                 INDIA             5\n",
            "17                             INDONESIA             3\n",
            "18                              ISLANDIA             1\n",
            "19                              JORDANIA             2\n",
            "20                                 KENIA             5\n",
            "21                                KUWAIT             3\n",
            "22  LAO, REPUBLIC DEMOCRATICA POPULAR DE             1\n",
            "23                            MADAGASCAR             1\n",
            "24                               MALASIA             6\n",
            "25                                 MALTA             2\n",
            "26                             MARRUECOS             3\n",
            "27                                MONACO             1\n",
            "28                            MONTENEGRO             1\n",
            "29                                  OMAN             1\n",
            "30                              PAKISTAN             1\n",
            "31                                 QATAR             6\n",
            "32                               RUMANIA             1\n",
            "33                               SENEGAL             1\n",
            "34                                SERBIA             1\n",
            "35                          SIERRA LEONA             1\n",
            "36                             SRI LANKA             1\n",
            "37                               SURINAM             1\n",
            "38                               TURQUIA             3\n",
            "39                               UCRANIA             3\n",
            "40                                UGANDA             1\n",
            "41                                 YEMEN             1\n"
          ],
          "name": "stdout"
        }
      ]
    },
    {
      "cell_type": "markdown",
      "metadata": {
        "id": "UiHGz5CFwRxY"
      },
      "source": [
        "Se procede a eliminar estos registros."
      ]
    },
    {
      "cell_type": "code",
      "metadata": {
        "colab": {
          "base_uri": "https://localhost:8080/"
        },
        "id": "OUjUdepLZ1yY",
        "outputId": "d0d7cc15-a17b-4636-f3f5-9f8a78d7db29"
      },
      "source": [
        "print(data_expl.shape)\n",
        "for indice,fila in registros_menores_6.iterrows():\n",
        "  #asignamos la cantidad de personas como variable para el recorrido de inserción\n",
        "  pais_r=fila['pais'] \n",
        "  #print (pais_r)\n",
        "  data_expl = data_expl.drop(data_expl[data_expl['pais']==pais_r].index)\n",
        "  #print(fila['pais'])\n",
        "print(data_expl.shape)"
      ],
      "execution_count": null,
      "outputs": [
        {
          "output_type": "stream",
          "text": [
            "(20217, 11)\n",
            "(20122, 11)\n"
          ],
          "name": "stdout"
        }
      ]
    },
    {
      "cell_type": "markdown",
      "metadata": {
        "id": "3hTGmVoRwsl0"
      },
      "source": [
        "#Categorización de los datos \n",
        "Dado que algunos de los algoritmos solo permitian datos numéricos y por lo tanto fue necesario la realización de una categorización de las características cualitativas, para la realización de este proceso convertimos a category cada una de las características cualitativas como género, etnia, estado_civil, etc.\n"
      ]
    },
    {
      "cell_type": "code",
      "metadata": {
        "id": "xavJU4hsZcnI"
      },
      "source": [
        "data_expl.pais=data_expl.pais.astype(\"category\").cat.codes\n",
        "data_expl.grupo_edad = data_expl.grupo_edad.astype(\"category\").cat.codes\n",
        "data_expl.area_ocupacion=data_expl.area_ocupacion.astype(\"category\").cat.codes\n",
        "data_expl.sub_area_ocupacion=data_expl.sub_area_ocupacion.astype(\"category\").cat.codes\n",
        "data_expl.nivel_academico=data_expl.nivel_academico.astype(\"category\").cat.codes\n",
        "data_expl.estado_civil=data_expl.estado_civil.astype(\"category\").cat.codes\n",
        "data_expl.genero=data_expl.genero.astype(\"category\").cat.codes\n",
        "data_expl.etnia=data_expl.etnia.astype(\"category\").cat.codes"
      ],
      "execution_count": null,
      "outputs": []
    },
    {
      "cell_type": "markdown",
      "metadata": {
        "id": "uOqsU2E6w355"
      },
      "source": [
        "Definimos los datos"
      ]
    },
    {
      "cell_type": "code",
      "metadata": {
        "id": "WeiPgOFTZlku"
      },
      "source": [
        "X = data_expl[['grupo_edad', 'edad','area_ocupacion', 'sub_area_ocupacion', 'nivel_academico', 'estado_civil', 'genero',\n",
        "           'etnia', 'estatura']]\n",
        "        \n",
        "y = data_expl.pais"
      ],
      "execution_count": null,
      "outputs": []
    },
    {
      "cell_type": "markdown",
      "metadata": {
        "id": "YPUSjyyJxBGz"
      },
      "source": [
        "#Balanceo de datos\n"
      ]
    },
    {
      "cell_type": "code",
      "metadata": {
        "colab": {
          "base_uri": "https://localhost:8080/"
        },
        "id": "_AJLWXm-aB8r",
        "outputId": "0b649921-e481-4b54-c772-24f107e5bdb5"
      },
      "source": [
        "from imblearn.combine import SMOTETomek\n",
        "oversample = SMOTETomek(\"all\")\n",
        "X_over, y_over = oversample.fit_resample(X, y)"
      ],
      "execution_count": null,
      "outputs": [
        {
          "output_type": "stream",
          "text": [
            "/usr/local/lib/python3.7/dist-packages/sklearn/externals/six.py:31: FutureWarning: The module is deprecated in version 0.21 and will be removed in version 0.23 since we've dropped support for Python 2.7. Please rely on the official version of six (https://pypi.org/project/six/).\n",
            "  \"(https://pypi.org/project/six/).\", FutureWarning)\n",
            "/usr/local/lib/python3.7/dist-packages/sklearn/utils/deprecation.py:144: FutureWarning: The sklearn.neighbors.base module is  deprecated in version 0.22 and will be removed in version 0.24. The corresponding classes / functions should instead be imported from sklearn.neighbors. Anything that cannot be imported from sklearn.neighbors is now part of the private API.\n",
            "  warnings.warn(message, FutureWarning)\n",
            "/usr/local/lib/python3.7/dist-packages/sklearn/utils/deprecation.py:87: FutureWarning: Function safe_indexing is deprecated; safe_indexing is deprecated in version 0.22 and will be removed in version 0.24.\n",
            "  warnings.warn(msg, category=FutureWarning)\n",
            "/usr/local/lib/python3.7/dist-packages/sklearn/utils/deprecation.py:87: FutureWarning: Function safe_indexing is deprecated; safe_indexing is deprecated in version 0.22 and will be removed in version 0.24.\n",
            "  warnings.warn(msg, category=FutureWarning)\n",
            "/usr/local/lib/python3.7/dist-packages/sklearn/utils/deprecation.py:87: FutureWarning: Function safe_indexing is deprecated; safe_indexing is deprecated in version 0.22 and will be removed in version 0.24.\n",
            "  warnings.warn(msg, category=FutureWarning)\n",
            "/usr/local/lib/python3.7/dist-packages/sklearn/utils/deprecation.py:87: FutureWarning: Function safe_indexing is deprecated; safe_indexing is deprecated in version 0.22 and will be removed in version 0.24.\n",
            "  warnings.warn(msg, category=FutureWarning)\n",
            "/usr/local/lib/python3.7/dist-packages/sklearn/utils/deprecation.py:87: FutureWarning: Function safe_indexing is deprecated; safe_indexing is deprecated in version 0.22 and will be removed in version 0.24.\n",
            "  warnings.warn(msg, category=FutureWarning)\n",
            "/usr/local/lib/python3.7/dist-packages/sklearn/utils/deprecation.py:87: FutureWarning: Function safe_indexing is deprecated; safe_indexing is deprecated in version 0.22 and will be removed in version 0.24.\n",
            "  warnings.warn(msg, category=FutureWarning)\n",
            "/usr/local/lib/python3.7/dist-packages/sklearn/utils/deprecation.py:87: FutureWarning: Function safe_indexing is deprecated; safe_indexing is deprecated in version 0.22 and will be removed in version 0.24.\n",
            "  warnings.warn(msg, category=FutureWarning)\n",
            "/usr/local/lib/python3.7/dist-packages/sklearn/utils/deprecation.py:87: FutureWarning: Function safe_indexing is deprecated; safe_indexing is deprecated in version 0.22 and will be removed in version 0.24.\n",
            "  warnings.warn(msg, category=FutureWarning)\n",
            "/usr/local/lib/python3.7/dist-packages/sklearn/utils/deprecation.py:87: FutureWarning: Function safe_indexing is deprecated; safe_indexing is deprecated in version 0.22 and will be removed in version 0.24.\n",
            "  warnings.warn(msg, category=FutureWarning)\n",
            "/usr/local/lib/python3.7/dist-packages/sklearn/utils/deprecation.py:87: FutureWarning: Function safe_indexing is deprecated; safe_indexing is deprecated in version 0.22 and will be removed in version 0.24.\n",
            "  warnings.warn(msg, category=FutureWarning)\n",
            "/usr/local/lib/python3.7/dist-packages/sklearn/utils/deprecation.py:87: FutureWarning: Function safe_indexing is deprecated; safe_indexing is deprecated in version 0.22 and will be removed in version 0.24.\n",
            "  warnings.warn(msg, category=FutureWarning)\n",
            "/usr/local/lib/python3.7/dist-packages/sklearn/utils/deprecation.py:87: FutureWarning: Function safe_indexing is deprecated; safe_indexing is deprecated in version 0.22 and will be removed in version 0.24.\n",
            "  warnings.warn(msg, category=FutureWarning)\n",
            "/usr/local/lib/python3.7/dist-packages/sklearn/utils/deprecation.py:87: FutureWarning: Function safe_indexing is deprecated; safe_indexing is deprecated in version 0.22 and will be removed in version 0.24.\n",
            "  warnings.warn(msg, category=FutureWarning)\n",
            "/usr/local/lib/python3.7/dist-packages/sklearn/utils/deprecation.py:87: FutureWarning: Function safe_indexing is deprecated; safe_indexing is deprecated in version 0.22 and will be removed in version 0.24.\n",
            "  warnings.warn(msg, category=FutureWarning)\n",
            "/usr/local/lib/python3.7/dist-packages/sklearn/utils/deprecation.py:87: FutureWarning: Function safe_indexing is deprecated; safe_indexing is deprecated in version 0.22 and will be removed in version 0.24.\n",
            "  warnings.warn(msg, category=FutureWarning)\n",
            "/usr/local/lib/python3.7/dist-packages/sklearn/utils/deprecation.py:87: FutureWarning: Function safe_indexing is deprecated; safe_indexing is deprecated in version 0.22 and will be removed in version 0.24.\n",
            "  warnings.warn(msg, category=FutureWarning)\n",
            "/usr/local/lib/python3.7/dist-packages/sklearn/utils/deprecation.py:87: FutureWarning: Function safe_indexing is deprecated; safe_indexing is deprecated in version 0.22 and will be removed in version 0.24.\n",
            "  warnings.warn(msg, category=FutureWarning)\n",
            "/usr/local/lib/python3.7/dist-packages/sklearn/utils/deprecation.py:87: FutureWarning: Function safe_indexing is deprecated; safe_indexing is deprecated in version 0.22 and will be removed in version 0.24.\n",
            "  warnings.warn(msg, category=FutureWarning)\n",
            "/usr/local/lib/python3.7/dist-packages/sklearn/utils/deprecation.py:87: FutureWarning: Function safe_indexing is deprecated; safe_indexing is deprecated in version 0.22 and will be removed in version 0.24.\n",
            "  warnings.warn(msg, category=FutureWarning)\n",
            "/usr/local/lib/python3.7/dist-packages/sklearn/utils/deprecation.py:87: FutureWarning: Function safe_indexing is deprecated; safe_indexing is deprecated in version 0.22 and will be removed in version 0.24.\n",
            "  warnings.warn(msg, category=FutureWarning)\n",
            "/usr/local/lib/python3.7/dist-packages/sklearn/utils/deprecation.py:87: FutureWarning: Function safe_indexing is deprecated; safe_indexing is deprecated in version 0.22 and will be removed in version 0.24.\n",
            "  warnings.warn(msg, category=FutureWarning)\n",
            "/usr/local/lib/python3.7/dist-packages/sklearn/utils/deprecation.py:87: FutureWarning: Function safe_indexing is deprecated; safe_indexing is deprecated in version 0.22 and will be removed in version 0.24.\n",
            "  warnings.warn(msg, category=FutureWarning)\n",
            "/usr/local/lib/python3.7/dist-packages/sklearn/utils/deprecation.py:87: FutureWarning: Function safe_indexing is deprecated; safe_indexing is deprecated in version 0.22 and will be removed in version 0.24.\n",
            "  warnings.warn(msg, category=FutureWarning)\n",
            "/usr/local/lib/python3.7/dist-packages/sklearn/utils/deprecation.py:87: FutureWarning: Function safe_indexing is deprecated; safe_indexing is deprecated in version 0.22 and will be removed in version 0.24.\n",
            "  warnings.warn(msg, category=FutureWarning)\n",
            "/usr/local/lib/python3.7/dist-packages/sklearn/utils/deprecation.py:87: FutureWarning: Function safe_indexing is deprecated; safe_indexing is deprecated in version 0.22 and will be removed in version 0.24.\n",
            "  warnings.warn(msg, category=FutureWarning)\n",
            "/usr/local/lib/python3.7/dist-packages/sklearn/utils/deprecation.py:87: FutureWarning: Function safe_indexing is deprecated; safe_indexing is deprecated in version 0.22 and will be removed in version 0.24.\n",
            "  warnings.warn(msg, category=FutureWarning)\n",
            "/usr/local/lib/python3.7/dist-packages/sklearn/utils/deprecation.py:87: FutureWarning: Function safe_indexing is deprecated; safe_indexing is deprecated in version 0.22 and will be removed in version 0.24.\n",
            "  warnings.warn(msg, category=FutureWarning)\n",
            "/usr/local/lib/python3.7/dist-packages/sklearn/utils/deprecation.py:87: FutureWarning: Function safe_indexing is deprecated; safe_indexing is deprecated in version 0.22 and will be removed in version 0.24.\n",
            "  warnings.warn(msg, category=FutureWarning)\n",
            "/usr/local/lib/python3.7/dist-packages/sklearn/utils/deprecation.py:87: FutureWarning: Function safe_indexing is deprecated; safe_indexing is deprecated in version 0.22 and will be removed in version 0.24.\n",
            "  warnings.warn(msg, category=FutureWarning)\n",
            "/usr/local/lib/python3.7/dist-packages/sklearn/utils/deprecation.py:87: FutureWarning: Function safe_indexing is deprecated; safe_indexing is deprecated in version 0.22 and will be removed in version 0.24.\n",
            "  warnings.warn(msg, category=FutureWarning)\n",
            "/usr/local/lib/python3.7/dist-packages/sklearn/utils/deprecation.py:87: FutureWarning: Function safe_indexing is deprecated; safe_indexing is deprecated in version 0.22 and will be removed in version 0.24.\n",
            "  warnings.warn(msg, category=FutureWarning)\n",
            "/usr/local/lib/python3.7/dist-packages/sklearn/utils/deprecation.py:87: FutureWarning: Function safe_indexing is deprecated; safe_indexing is deprecated in version 0.22 and will be removed in version 0.24.\n",
            "  warnings.warn(msg, category=FutureWarning)\n",
            "/usr/local/lib/python3.7/dist-packages/sklearn/utils/deprecation.py:87: FutureWarning: Function safe_indexing is deprecated; safe_indexing is deprecated in version 0.22 and will be removed in version 0.24.\n",
            "  warnings.warn(msg, category=FutureWarning)\n",
            "/usr/local/lib/python3.7/dist-packages/sklearn/utils/deprecation.py:87: FutureWarning: Function safe_indexing is deprecated; safe_indexing is deprecated in version 0.22 and will be removed in version 0.24.\n",
            "  warnings.warn(msg, category=FutureWarning)\n",
            "/usr/local/lib/python3.7/dist-packages/sklearn/utils/deprecation.py:87: FutureWarning: Function safe_indexing is deprecated; safe_indexing is deprecated in version 0.22 and will be removed in version 0.24.\n",
            "  warnings.warn(msg, category=FutureWarning)\n",
            "/usr/local/lib/python3.7/dist-packages/sklearn/utils/deprecation.py:87: FutureWarning: Function safe_indexing is deprecated; safe_indexing is deprecated in version 0.22 and will be removed in version 0.24.\n",
            "  warnings.warn(msg, category=FutureWarning)\n",
            "/usr/local/lib/python3.7/dist-packages/sklearn/utils/deprecation.py:87: FutureWarning: Function safe_indexing is deprecated; safe_indexing is deprecated in version 0.22 and will be removed in version 0.24.\n",
            "  warnings.warn(msg, category=FutureWarning)\n",
            "/usr/local/lib/python3.7/dist-packages/sklearn/utils/deprecation.py:87: FutureWarning: Function safe_indexing is deprecated; safe_indexing is deprecated in version 0.22 and will be removed in version 0.24.\n",
            "  warnings.warn(msg, category=FutureWarning)\n",
            "/usr/local/lib/python3.7/dist-packages/sklearn/utils/deprecation.py:87: FutureWarning: Function safe_indexing is deprecated; safe_indexing is deprecated in version 0.22 and will be removed in version 0.24.\n",
            "  warnings.warn(msg, category=FutureWarning)\n",
            "/usr/local/lib/python3.7/dist-packages/sklearn/utils/deprecation.py:87: FutureWarning: Function safe_indexing is deprecated; safe_indexing is deprecated in version 0.22 and will be removed in version 0.24.\n",
            "  warnings.warn(msg, category=FutureWarning)\n",
            "/usr/local/lib/python3.7/dist-packages/sklearn/utils/deprecation.py:87: FutureWarning: Function safe_indexing is deprecated; safe_indexing is deprecated in version 0.22 and will be removed in version 0.24.\n",
            "  warnings.warn(msg, category=FutureWarning)\n",
            "/usr/local/lib/python3.7/dist-packages/sklearn/utils/deprecation.py:87: FutureWarning: Function safe_indexing is deprecated; safe_indexing is deprecated in version 0.22 and will be removed in version 0.24.\n",
            "  warnings.warn(msg, category=FutureWarning)\n",
            "/usr/local/lib/python3.7/dist-packages/sklearn/utils/deprecation.py:87: FutureWarning: Function safe_indexing is deprecated; safe_indexing is deprecated in version 0.22 and will be removed in version 0.24.\n",
            "  warnings.warn(msg, category=FutureWarning)\n",
            "/usr/local/lib/python3.7/dist-packages/sklearn/utils/deprecation.py:87: FutureWarning: Function safe_indexing is deprecated; safe_indexing is deprecated in version 0.22 and will be removed in version 0.24.\n",
            "  warnings.warn(msg, category=FutureWarning)\n",
            "/usr/local/lib/python3.7/dist-packages/sklearn/utils/deprecation.py:87: FutureWarning: Function safe_indexing is deprecated; safe_indexing is deprecated in version 0.22 and will be removed in version 0.24.\n",
            "  warnings.warn(msg, category=FutureWarning)\n",
            "/usr/local/lib/python3.7/dist-packages/sklearn/utils/deprecation.py:87: FutureWarning: Function safe_indexing is deprecated; safe_indexing is deprecated in version 0.22 and will be removed in version 0.24.\n",
            "  warnings.warn(msg, category=FutureWarning)\n",
            "/usr/local/lib/python3.7/dist-packages/sklearn/utils/deprecation.py:87: FutureWarning: Function safe_indexing is deprecated; safe_indexing is deprecated in version 0.22 and will be removed in version 0.24.\n",
            "  warnings.warn(msg, category=FutureWarning)\n",
            "/usr/local/lib/python3.7/dist-packages/sklearn/utils/deprecation.py:87: FutureWarning: Function safe_indexing is deprecated; safe_indexing is deprecated in version 0.22 and will be removed in version 0.24.\n",
            "  warnings.warn(msg, category=FutureWarning)\n",
            "/usr/local/lib/python3.7/dist-packages/sklearn/utils/deprecation.py:87: FutureWarning: Function safe_indexing is deprecated; safe_indexing is deprecated in version 0.22 and will be removed in version 0.24.\n",
            "  warnings.warn(msg, category=FutureWarning)\n",
            "/usr/local/lib/python3.7/dist-packages/sklearn/utils/deprecation.py:87: FutureWarning: Function safe_indexing is deprecated; safe_indexing is deprecated in version 0.22 and will be removed in version 0.24.\n",
            "  warnings.warn(msg, category=FutureWarning)\n",
            "/usr/local/lib/python3.7/dist-packages/sklearn/utils/deprecation.py:87: FutureWarning: Function safe_indexing is deprecated; safe_indexing is deprecated in version 0.22 and will be removed in version 0.24.\n",
            "  warnings.warn(msg, category=FutureWarning)\n",
            "/usr/local/lib/python3.7/dist-packages/sklearn/utils/deprecation.py:87: FutureWarning: Function safe_indexing is deprecated; safe_indexing is deprecated in version 0.22 and will be removed in version 0.24.\n",
            "  warnings.warn(msg, category=FutureWarning)\n",
            "/usr/local/lib/python3.7/dist-packages/sklearn/utils/deprecation.py:87: FutureWarning: Function safe_indexing is deprecated; safe_indexing is deprecated in version 0.22 and will be removed in version 0.24.\n",
            "  warnings.warn(msg, category=FutureWarning)\n"
          ],
          "name": "stderr"
        }
      ]
    },
    {
      "cell_type": "markdown",
      "metadata": {
        "id": "EDptUOuIxoxl"
      },
      "source": [
        "Dividimos los datos de prueba y entrenamiento"
      ]
    },
    {
      "cell_type": "code",
      "metadata": {
        "id": "u5ooeojRZruk"
      },
      "source": [
        "from sklearn.model_selection import train_test_split\n",
        "X_train, X_test, y_train, y_test = train_test_split(X_over, y_over,\n",
        "                                                    random_state=0)"
      ],
      "execution_count": null,
      "outputs": []
    },
    {
      "cell_type": "markdown",
      "metadata": {
        "id": "2v_GVgkcxyde"
      },
      "source": [
        "#Aplicamos los modelos de ML"
      ]
    },
    {
      "cell_type": "markdown",
      "metadata": {
        "id": "naeFWgLokWVU"
      },
      "source": [
        "#RNA"
      ]
    },
    {
      "cell_type": "code",
      "metadata": {
        "colab": {
          "base_uri": "https://localhost:8080/"
        },
        "id": "XFCqWQfxRWME",
        "outputId": "7d15f25e-c2a0-4e7d-deb4-f7b52c7de780"
      },
      "source": [
        "inicio = time.time()\n",
        "# Código a medir\n",
        "time.sleep(1)\n",
        "from sklearn.neural_network import MLPClassifier\n",
        "mlp = MLPClassifier(solver='adam', random_state=0, max_iter=300, learning_rate= 'adaptive',activation = 'logistic').fit(X_train, y_train)\n",
        "\n",
        "print(\"RNA Test set score: {:.2f}\".format(mlp.score(X_test, y_test)))\n",
        "print(\"RNA Train set score: {:.2f}\".format(mlp.score(X_train, y_train)))\n",
        "\n",
        "fin = time.time()\n",
        "print(\"Tiempo total de ejecución en segundos:\" , fin-inicio)"
      ],
      "execution_count": null,
      "outputs": [
        {
          "output_type": "stream",
          "text": [
            "/usr/local/lib/python3.7/dist-packages/sklearn/neural_network/_multilayer_perceptron.py:571: ConvergenceWarning: Stochastic Optimizer: Maximum iterations (300) reached and the optimization hasn't converged yet.\n",
            "  % self.max_iter, ConvergenceWarning)\n"
          ],
          "name": "stderr"
        },
        {
          "output_type": "stream",
          "text": [
            "RNA Test set score: 0.49\n",
            "RNA Train set score: 0.50\n",
            "Tiempo total de ejecución en segundos: 979.5912084579468\n"
          ],
          "name": "stdout"
        }
      ]
    },
    {
      "cell_type": "markdown",
      "metadata": {
        "id": "3yTH53bszN18"
      },
      "source": [
        "Por incompatibilidad de versiones y para poder hacer uso de las metricas fue necesario subir la versión, sin embargo, el algoritmo de RNA nos generaba conflicto por eso procuramos ejecutarlo antes"
      ]
    },
    {
      "cell_type": "code",
      "metadata": {
        "colab": {
          "base_uri": "https://localhost:8080/",
          "height": 295
        },
        "id": "x-ViMwKAyNYV",
        "outputId": "cfa57f83-e95a-4a7a-aaf5-c776e215f79e"
      },
      "source": [
        "!pip uninstall scikit-learn -y\n",
        "!pip install -U scikit-learn==0.24.2\n",
        "\n",
        "from sklearn.metrics import mean_squared_error\n",
        "from sklearn.metrics import accuracy_score\n",
        "from sklearn.metrics import precision_score\n",
        "from sklearn.metrics import recall_score\n",
        "from sklearn.metrics import f1_score\n",
        "import time"
      ],
      "execution_count": null,
      "outputs": [
        {
          "output_type": "stream",
          "text": [
            "Uninstalling scikit-learn-0.22.2.post1:\n",
            "  Successfully uninstalled scikit-learn-0.22.2.post1\n",
            "Collecting scikit-learn==0.24.2\n",
            "\u001b[?25l  Downloading https://files.pythonhosted.org/packages/a8/eb/a48f25c967526b66d5f1fa7a984594f0bf0a5afafa94a8c4dbc317744620/scikit_learn-0.24.2-cp37-cp37m-manylinux2010_x86_64.whl (22.3MB)\n",
            "\u001b[K     |████████████████████████████████| 22.3MB 1.7MB/s \n",
            "\u001b[?25hRequirement already satisfied, skipping upgrade: numpy>=1.13.3 in /usr/local/lib/python3.7/dist-packages (from scikit-learn==0.24.2) (1.19.5)\n",
            "Collecting threadpoolctl>=2.0.0\n",
            "  Downloading https://files.pythonhosted.org/packages/f7/12/ec3f2e203afa394a149911729357aa48affc59c20e2c1c8297a60f33f133/threadpoolctl-2.1.0-py3-none-any.whl\n",
            "Requirement already satisfied, skipping upgrade: scipy>=0.19.1 in /usr/local/lib/python3.7/dist-packages (from scikit-learn==0.24.2) (1.4.1)\n",
            "Requirement already satisfied, skipping upgrade: joblib>=0.11 in /usr/local/lib/python3.7/dist-packages (from scikit-learn==0.24.2) (1.0.1)\n",
            "Installing collected packages: threadpoolctl, scikit-learn\n",
            "Successfully installed scikit-learn-0.24.2 threadpoolctl-2.1.0\n"
          ],
          "name": "stdout"
        },
        {
          "output_type": "display_data",
          "data": {
            "application/vnd.colab-display-data+json": {
              "pip_warning": {
                "packages": [
                  "sklearn"
                ]
              }
            }
          },
          "metadata": {
            "tags": []
          }
        }
      ]
    },
    {
      "cell_type": "code",
      "metadata": {
        "colab": {
          "base_uri": "https://localhost:8080/"
        },
        "id": "j6TVJAiykbrv",
        "outputId": "853116a9-a23d-4ba0-8ff0-25ff6f7c4e46"
      },
      "source": [
        "inicio = time.time()\n",
        "# Código a medir\n",
        "time.sleep(1)\n",
        "y_pred=mlp.predict(X_test)\n",
        "\n",
        "print(\"Test mean_squared_error: {:.3f}\".format(mean_squared_error(y_test, y_pred)))\n",
        "print(\"Test accuracy_score: {:.3f}\".format(accuracy_score(y_test,y_pred)))\n",
        "print(\"Test precision_score: {:.3f}\".format(precision_score(y_test,y_pred, average='weighted')))\n",
        "print(\"Test recall_score: {:.3f}\".format(recall_score(y_test,y_pred, average='weighted')))\n",
        "print(\"Test f1_score: {:.3f}\".format(f1_score(y_test,y_pred, average='weighted')))\n",
        "fin = time.time()\n",
        "print(\"Tiempo total de ejecución en segundos:\" , fin-inicio)"
      ],
      "execution_count": null,
      "outputs": [
        {
          "output_type": "stream",
          "text": [
            "Test mean_squared_error: 3.096\n",
            "Test accuracy_score: 0.493\n",
            "Test precision_score: 0.425\n",
            "Test recall_score: 0.493\n",
            "Test f1_score: 0.438\n",
            "Tiempo total de ejecución en segundos: 1.6353273391723633\n"
          ],
          "name": "stdout"
        }
      ]
    },
    {
      "cell_type": "markdown",
      "metadata": {
        "id": "jJVEsZl-yVEK"
      },
      "source": [
        "#KNN"
      ]
    },
    {
      "cell_type": "code",
      "metadata": {
        "colab": {
          "base_uri": "https://localhost:8080/"
        },
        "id": "x9APPZpkZ_r2",
        "outputId": "2f2ba266-198a-47e7-f984-41ae3dff0ec1"
      },
      "source": [
        "inicio = time.time()\n",
        "# Código a medir\n",
        "time.sleep(1)\n",
        "from sklearn.neighbors import KNeighborsClassifier\n",
        "knn = KNeighborsClassifier(n_neighbors=1)\n",
        "knn.fit(X_train, y_train)\n",
        "\n",
        "print(\"Test set score: {:.2f}\".format(knn.score(X_test, y_test)))\n",
        "print(\"Train set score: {:.2f}\".format(knn.score(X_train, y_train)))\n",
        "\n",
        "y_pred=knn.predict(X_test)\n",
        "\n",
        "print(\"Test mean_squared_error: {:.3f}\".format(mean_squared_error(y_test, y_pred)))\n",
        "print(\"Test accuracy_score: {:.3f}\".format(accuracy_score(y_test,y_pred)))\n",
        "print(\"Test precision_score: {:.3f}\".format(precision_score(y_test,y_pred, average='weighted')))\n",
        "print(\"Test recall_score: {:.3f}\".format(recall_score(y_test,y_pred, average='weighted')))\n",
        "print(\"Test f1_score: {:.3f}\".format(f1_score(y_test,y_pred, average='weighted')))\n",
        "fin = time.time()\n",
        "print(\"Tiempo total de ejecución en segundos:\" , fin-inicio)"
      ],
      "execution_count": null,
      "outputs": [
        {
          "output_type": "stream",
          "text": [
            "Test set score: 0.92\n",
            "Train set score: 0.99\n",
            "Test mean_squared_error: 0.943\n",
            "Test accuracy_score: 0.922\n",
            "Test precision_score: 0.917\n",
            "Test recall_score: 0.922\n",
            "Test f1_score: 0.919\n",
            "Tiempo total de ejecución en segundos: 19.85611605644226\n"
          ],
          "name": "stdout"
        }
      ]
    },
    {
      "cell_type": "markdown",
      "metadata": {
        "id": "7oQ7kQezyZL7"
      },
      "source": [
        "#SVM"
      ]
    },
    {
      "cell_type": "code",
      "metadata": {
        "colab": {
          "background_save": true,
          "base_uri": "https://localhost:8080/"
        },
        "id": "7D5VVNTByk-y",
        "outputId": "1f1fa7b6-df44-4584-e19e-2e6c02263cd0"
      },
      "source": [
        "inicio = time.time()\n",
        "# Código a medir\n",
        "time.sleep(1)\n",
        "from sklearn import svm\n",
        "rbf = svm.SVC(kernel='rbf', gamma=1, C=1, decision_function_shape='ovo',max_iter =-1).fit(X_train, y_train)\n",
        "print(\"rbf Test set score: {:.2f}\".format(rbf.score(X_test, y_test)))\n",
        "print(\"rbf Train set score: {:.2f}\".format(rbf.score(X_train, y_train)))\n",
        "\n",
        "y_pred=rbf.predict(X_test)\n",
        "\n",
        "print(\"Test mean_squared_error: {:.3f}\".format(mean_squared_error(y_test, y_pred)))\n",
        "print(\"Test accuracy_score: {:.3f}\".format(accuracy_score(y_test,y_pred)))\n",
        "print(\"Test precision_score: {:.3f}\".format(precision_score(y_test,y_pred, average='weighted')))\n",
        "print(\"Test recall_score: {:.3f}\".format(recall_score(y_test,y_pred, average='weighted')))\n",
        "print(\"Test f1_score: {:.3f}\".format(f1_score(y_test,y_pred, average='weighted')))\n",
        "fin = time.time()\n",
        "print(\"Tiempo total de ejecución en segundos:\" , fin-inicio)"
      ],
      "execution_count": null,
      "outputs": [
        {
          "output_type": "stream",
          "text": [
            "rbf Test set score: 0.90\n",
            "rbf Train set score: 0.96\n"
          ],
          "name": "stdout"
        }
      ]
    },
    {
      "cell_type": "markdown",
      "metadata": {
        "id": "faoxnP6syYy6"
      },
      "source": [
        "#RF"
      ]
    },
    {
      "cell_type": "code",
      "metadata": {
        "colab": {
          "base_uri": "https://localhost:8080/"
        },
        "id": "kH4dE3hOy9fR",
        "outputId": "798d2eab-35a0-4d28-f8d9-d90b462233ce"
      },
      "source": [
        "inicio = time.time()\n",
        "# Código a medir\n",
        "time.sleep(1)\n",
        "from sklearn.ensemble import RandomForestClassifier\n",
        "forest = RandomForestClassifier(n_estimators=5, random_state=2)\n",
        "forest.fit(X_train, y_train)\n",
        "print(\"Test set score: {:.3f}\".format(forest.score(X_test, y_test)))\n",
        "print(\"Train set score: {:.3f}\".format(forest.score(X_train, y_train)))\n",
        "\n",
        "y_pred=forest.predict(X_test)\n",
        "\n",
        "print(\"Test mean_squared_error: {:.3f}\".format(mean_squared_error(y_test, y_pred)))\n",
        "print(\"Test accuracy_score: {:.3f}\".format(accuracy_score(y_test,y_pred)))\n",
        "print(\"Test precision_score: {:.3f}\".format(precision_score(y_test,y_pred, average='weighted')))\n",
        "print(\"Test recall_score: {:.3f}\".format(recall_score(y_test,y_pred, average='weighted')))\n",
        "print(\"Test f1_score: {:.3f}\".format(f1_score(y_test,y_pred, average='weighted')))\n",
        "fin = time.time()\n",
        "print(\"Tiempo total de ejecución en segundos:\" , fin-inicio)"
      ],
      "execution_count": null,
      "outputs": [
        {
          "output_type": "stream",
          "text": [
            "Test set score: 0.873\n",
            "Train set score: 0.983\n",
            "Test mean_squared_error: 1.566\n",
            "Test accuracy_score: 0.873\n",
            "Test precision_score: 0.869\n",
            "Test recall_score: 0.873\n",
            "Test f1_score: 0.870\n",
            "Tiempo total de ejecución en segundos: 8.730777502059937\n"
          ],
          "name": "stdout"
        }
      ]
    },
    {
      "cell_type": "markdown",
      "metadata": {
        "id": "_nGB_MCDyYbe"
      },
      "source": [
        "#XGBoost"
      ]
    },
    {
      "cell_type": "code",
      "metadata": {
        "colab": {
          "base_uri": "https://localhost:8080/"
        },
        "id": "5qGIdAPqarWz",
        "outputId": "4074f9c9-660b-443b-ec22-88e62523a3e5"
      },
      "source": [
        "inicio = time.time()\n",
        "# Código a medir\n",
        "time.sleep(1)\n",
        "from xgboost import XGBClassifier\n",
        "from sklearn.model_selection import train_test_split\n",
        "from sklearn.metrics import accuracy_score\n",
        "\n",
        "# fit model no training data\n",
        "xgbc = XGBClassifier(objective= 'multi:softmax',num_class= 99,gamma= 0.1,max_depth= 12,reg_lambda=2,subsample= 1,colsample_bytree=0.7,min_child_weight=3).fit(X_train, y_train)\n",
        "print(\"Test set score: {:.3f}\".format(xgbc.score(X_test, y_test)))\n",
        "print(\"Train set score: {:.3f}\".format(xgbc.score(X_train, y_train)))\n",
        "\n",
        "y_pred=xgbc.predict(X_test)\n",
        "\n",
        "print(\"Test mean_squared_error: {:.3f}\".format(mean_squared_error(y_test, y_pred)))\n",
        "print(\"Test accuracy_score: {:.3f}\".format(accuracy_score(y_test,y_pred)))\n",
        "print(\"Test precision_score: {:.3f}\".format(precision_score(y_test,y_pred, average='weighted')))\n",
        "print(\"Test recall_score: {:.3f}\".format(recall_score(y_test,y_pred, average='weighted')))\n",
        "print(\"Test f1_score: {:.3f}\".format(f1_score(y_test,y_pred, average='weighted')))\n",
        "fin = time.time()\n",
        "print(\"Tiempo total de ejecución en segundos:\" , fin-inicio)"
      ],
      "execution_count": null,
      "outputs": [
        {
          "output_type": "stream",
          "text": [
            "Test set score: 0.872\n",
            "Train set score: 0.951\n",
            "Test mean_squared_error: 1.377\n",
            "Test accuracy_score: 0.872\n",
            "Test precision_score: 0.868\n",
            "Test recall_score: 0.872\n",
            "Test f1_score: 0.868\n",
            "Tiempo total de ejecución en segundos: 4643.142404079437\n"
          ],
          "name": "stdout"
        }
      ]
    }
  ]
}